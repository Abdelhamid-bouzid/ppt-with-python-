{
 "cells": [
  {
   "cell_type": "code",
   "execution_count": null,
   "metadata": {},
   "outputs": [],
   "source": [
    "from pptx import Presentation\n",
    "from pptx.enum.text import PP_ALIGN\n",
    "from pptx.enum.shapes import MSO_SHAPE\n",
    "from pptx.util import Inches, Pt,Cm"
   ]
  },
  {
   "cell_type": "markdown",
   "metadata": {},
   "source": [
    "# ======================== Generate slide function ===============\n",
    "- one figure per slide"
   ]
  },
  {
   "cell_type": "code",
   "execution_count": null,
   "metadata": {},
   "outputs": [],
   "source": [
    "def GenSlide(slide,Title,Path_1):\n",
    "    title_placeholder      = slide.shapes.title\n",
    "    title_placeholder.text = Title\n",
    "    shapes                 = slide.shapes\n",
    "    \n",
    "    picture_1 = shapes.add_picture(Path_1,Cm(2),Cm(0))\n",
    "    \n",
    "    picture_1.crop_left   = 0.035\n",
    "    picture_1.crop_right  = 0.09\n",
    "    picture_1.crop_top    = 0.01\n",
    "    picture_1.crop_bottom = 0.01\n",
    "\n",
    "    picture_1.height = Cm(18)\n",
    "    picture_1.width  = Cm(20)\n",
    "    \n",
    "    return slide"
   ]
  },
  {
   "cell_type": "markdown",
   "metadata": {},
   "source": [
    "# =============================== Main ======================="
   ]
  },
  {
   "cell_type": "code",
   "execution_count": null,
   "metadata": {},
   "outputs": [],
   "source": [
    "SLD_SECTION                  = 0\n",
    "SLD_LAYOUT_TITLE_AND_CONTENT = 1\n",
    "prs                          = Presentation()\n",
    "slide_layout                 = prs.slide_layouts[SLD_SECTION]\n",
    "filename                     = r'presentation.pptx'\n",
    "\n",
    "for C in range(10):\n",
    "    \n",
    "    Path_1 = # is the image or figure path\n",
    "    slide = prs.slides.add_slide(slide_layout)\n",
    "    Slide = GenSlide(slide,\"Title\",Path_1)\n",
    "    \n",
    "prs.save(filename)"
   ]
  }
 ],
 "metadata": {
  "kernelspec": {
   "display_name": "Python 3",
   "language": "python",
   "name": "python3"
  },
  "language_info": {
   "codemirror_mode": {
    "name": "ipython",
    "version": 3
   },
   "file_extension": ".py",
   "mimetype": "text/x-python",
   "name": "python",
   "nbconvert_exporter": "python",
   "pygments_lexer": "ipython3",
   "version": "3.7.4"
  }
 },
 "nbformat": 4,
 "nbformat_minor": 2
}
