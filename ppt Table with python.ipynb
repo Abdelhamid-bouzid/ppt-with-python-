{
 "cells": [
  {
   "cell_type": "code",
   "execution_count": null,
   "metadata": {},
   "outputs": [],
   "source": [
    "from pptx import Presentation\n",
    "from pptx.enum.text import PP_ALIGN\n",
    "from pptx.enum.shapes import MSO_SHAPE\n",
    "from pptx.util import Inches, Pt,Cm"
   ]
  },
  {
   "cell_type": "markdown",
   "metadata": {},
   "source": [
    "# ======================== Paramters ========================="
   ]
  },
  {
   "cell_type": "code",
   "execution_count": null,
   "metadata": {},
   "outputs": [],
   "source": [
    "class_names  = ['Class 0','Class 1', 'Class 2', 'Class 3', 'Class 4', 'Class 5','Class 6', 'Class 7', 'Class 8', 'Class 9']\n",
    "zone_names   = ['front','side-view 1','back','side-view 2']\n",
    "day_night1   = ['night','day']\n",
    "ranges_names = ['1000','2000','2500','3000','3500']"
   ]
  },
  {
   "cell_type": "markdown",
   "metadata": {},
   "source": [
    "# =========================== Function ======================="
   ]
  },
  {
   "cell_type": "code",
   "execution_count": null,
   "metadata": {},
   "outputs": [],
   "source": [
    "def GenSlide2(slide,X,C):\n",
    "    \n",
    "    ################################################### Create Text #######################################\n",
    "    left, top, width, height = Inches(5), Inches(0.5), Inches(1), Inches(0.5)\n",
    "    txBox = slide.shapes.add_textbox(left, top, width, height)\n",
    "    tf = txBox.text_frame\n",
    "\n",
    "    tf.text = class_names[C]\n",
    "    \n",
    "    ################################################### Create TABLE #######################################\n",
    "    left, top, width, height = Inches(0.5), Inches(1), Inches(9), Inches(1.5)\n",
    "    shape = slide.shapes.add_table(18, 13, left, top, width, height)\n",
    "    \n",
    "    table = shape.table\n",
    "    \n",
    "    ################################################### merge cells #######################################\n",
    "    cell = table.cell(0, 2)\n",
    "    other_cell = table.cell(0, 3)\n",
    "    cell.merge(other_cell)\n",
    "    \n",
    "    cell = table.cell(0, 4)\n",
    "    other_cell = table.cell(0, 7)\n",
    "    cell.merge(other_cell)\n",
    "    \n",
    "    cell = table.cell(0, 8)\n",
    "    other_cell = table.cell(0, 12)\n",
    "    cell.merge(other_cell)\n",
    "    \n",
    "    ################################################### first Row #######################################\n",
    "    cell = table.cell(0, 2)\n",
    "    cell.text = 'Time of Day'\n",
    "    paragraph = cell.text_frame.paragraphs[0]\n",
    "    paragraph.font.size = Pt(12)\n",
    "    \n",
    "    cell = table.cell(0, 4)\n",
    "    cell.text = 'Target orientation'\n",
    "    paragraph = cell.text_frame.paragraphs[0]\n",
    "    paragraph.font.size = Pt(12)\n",
    "    \n",
    "    cell = table.cell(0, 8)\n",
    "    cell.text = 'Target Range'\n",
    "    paragraph = cell.text_frame.paragraphs[0]\n",
    "    paragraph.font.size = Pt(12)\n",
    "    \n",
    "    ################################################### Second Row #######################################\n",
    "    second_row = [*day_night1,*zone_names,*ranges_names]\n",
    "    for t,text in enumerate(second_row):\n",
    "        cell = table.cell(1, t+2)\n",
    "        cell.text = text\n",
    "        paragraph = cell.text_frame.paragraphs[0]\n",
    "        paragraph.font.size = Pt(9)\n",
    "        \n",
    "    ################################################### third Row #######################################\n",
    "    per_list = ['%' for i in range(11)]\n",
    "    third_row = ['Cluster','No. Samples',*per_list]\n",
    "    for t,text in enumerate(third_row):\n",
    "        cell = table.cell(2, t)\n",
    "        cell.text = text\n",
    "        paragraph = cell.text_frame.paragraphs[0]\n",
    "        paragraph.font.size = Pt(9)\n",
    "        \n",
    "    ################################################### First Colomun #######################################\n",
    "    for t in range(15):\n",
    "        cell = table.cell(t+3, 0)\n",
    "        cell.text = str(t)\n",
    "        paragraph = cell.text_frame.paragraphs[0]\n",
    "        paragraph.font.size = Pt(9)\n",
    "        \n",
    "    ######################################## fill the rest of the tabel #####################################\n",
    "    for i in range(X.shape[0]):\n",
    "        for j in range(X.shape[1]):\n",
    "            cell = table.cell(i+3, j+1)\n",
    "            if len(str(X[i,j]))>4:\n",
    "                cell.text = str(X[i,j])[:4]\n",
    "            else:\n",
    "                cell.text = str(X[i,j])\n",
    "            paragraph = cell.text_frame.paragraphs[0]\n",
    "            paragraph.font.size = Pt(9)\n",
    "        \n",
    "    return slide"
   ]
  },
  {
   "cell_type": "markdown",
   "metadata": {},
   "source": [
    "# =========================== Main =========================="
   ]
  },
  {
   "cell_type": "code",
   "execution_count": null,
   "metadata": {},
   "outputs": [],
   "source": [
    "prs                          = Presentation()\n",
    "slide_layout                 = prs.slide_layouts[SLD_SECTION]\n",
    "filename                     = r'presentations/Class_'+str(C)+'.pptx'\n",
    "\n",
    "for C in range(10):\n",
    "    X = # table\n",
    "    slide = prs.slides.add_slide(slide_layout)\n",
    "    Slide = GenSlide2(slide,X,C)\n",
    "    \n",
    "prs.save(filename)"
   ]
  }
 ],
 "metadata": {
  "kernelspec": {
   "display_name": "Python 3",
   "language": "python",
   "name": "python3"
  },
  "language_info": {
   "codemirror_mode": {
    "name": "ipython",
    "version": 3
   },
   "file_extension": ".py",
   "mimetype": "text/x-python",
   "name": "python",
   "nbconvert_exporter": "python",
   "pygments_lexer": "ipython3",
   "version": "3.7.4"
  }
 },
 "nbformat": 4,
 "nbformat_minor": 2
}
